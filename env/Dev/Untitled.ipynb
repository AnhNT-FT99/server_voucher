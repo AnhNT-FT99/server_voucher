{
 "cells": [
  {
   "cell_type": "code",
   "execution_count": 1,
   "metadata": {},
   "outputs": [
    {
     "name": "stdout",
     "output_type": "stream",
     "text": [
      "/Users/tienanh/Desktop/Dev/env/bin/python3\n"
     ]
    }
   ],
   "source": [
    "!which python3"
   ]
  },
  {
   "cell_type": "code",
   "execution_count": 2,
   "metadata": {},
   "outputs": [
    {
     "name": "stdout",
     "output_type": "stream",
     "text": [
      "Giảm 40%\n",
      "Chỉ áp dụng cho đơn hàng đầu tiên thanh toán tiền mặt, áp dụng với khách hàng mới của Grabfood.\n",
      "VNGFSD\n",
      "-------------------\n",
      "Freeship\n",
      "Miễn phí giao hàng trong 5km\n",
      "MIENPHI\n",
      "-------------------\n",
      "Giảm 20k\n",
      "Áp dụng cho các cửa hàng có sticker của chương trình\n",
      "ANTAINHA\n",
      "-------------------\n",
      "Giảm 45k\n",
      "Áp dụng từ 17h-21h hàng ngày\n",
      "tiec45\n",
      "-------------------\n",
      "Giảm 40K\n",
      "Áp dụng cho cửa hàng có sticker của chương trình\n",
      "TOI40\n",
      "-------------------\n",
      "Giảm 50%\n",
      "Khuyến mãi: 50%\n",
      "NGON50\n",
      "-------------------\n",
      "Bobabop\n",
      "Áp dụng cho các cửa hàng có sticker của chương trình\n",
      "BOBAPOP30\n",
      "-------------------\n",
      "Bonchon\n",
      "Áp dụng cho Đơn Hàng của Bonchon\n",
      "BONCHON30\n",
      "-------------------\n",
      "Coffee Bean\n",
      "Điều kiện: Áp dụng cho cửa hàng có sticker của chương trình\n",
      "COFFEEBEAN30\n",
      "-------------------\n",
      "Giảm 20k\n",
      "Áp dụng cho quán ưa thích, nhà hàng có tích xanh và grabkitchen\n",
      "Xem ở mục ưu đãi\n",
      "-------------------\n",
      "McDonalds\n",
      "Áp dụng cho khách hàng mới lần đầu đặt tại McDonalds\n",
      "MCDNEW\n",
      "-------------------\n",
      "McDonalds\n",
      "Áp dụng khi đặt hàng từ 17h-21h\n",
      "MCD100\n",
      "-------------------\n",
      "The Alley\n",
      "Áp dụng tại hệ thống The Alley trên toàn quốc\n",
      "xem ở mục ưu đãi\n",
      "-------------------\n",
      "Phúc Long\n",
      "Áp dụng tại hệ thống Phúc Long trên toàn quốc\n",
      "xem ở mục ưu đãi\n",
      "-------------------\n",
      "KOI The\n",
      "Áp dụng tại hệ thống KOI The trên toàn quốc\n",
      "xem ở mục ưu đãi\n",
      "-------------------\n",
      "Pizza Hut\n",
      "Áp dụng tại hệ thống Pizza Hut trên toàn quốc\n",
      "xem ở mục ưu đãi\n",
      "-------------------\n"
     ]
    }
   ],
   "source": [
    "    from requests_html import HTMLSession\n",
    "    session = HTMLSession()\n",
    "    r = session.get('https://chanhtuoi.com/ma-giam-gia-grab-c53.html?load=true&cate=14&order=hot')\n",
    "    article = r.html.find('div.chanhtuoi-code')\n",
    "    companies =[]\n",
    "    item_list = article[0].find('div.item')\n",
    "    for item in item_list:\n",
    "        name = item.find('p', first=True).text\n",
    "        item_desc = item.find('div.item-desc')\n",
    "        des = item_desc[0].find('p',first=True).text\n",
    "        dic = item.find('div.code')\n",
    "        data = dic[0].attrs\n",
    "        print(name)\n",
    "        print(des)\n",
    "        print(data['data-code'])"
   ]
  },
  {
   "cell_type": "code",
   "execution_count": 3,
   "metadata": {},
   "outputs": [
    {
     "name": "stdout",
     "output_type": "stream",
     "text": [
      "Giảm 20%\n",
      "Áp dụng khi thanh toán qua Ví Điện Tử Moca\n",
      "XANH\n",
      "-------------------\n",
      "Giảm 50%\n",
      "Khuyến mãi: 50%\n",
      "ANTOAN\n",
      "-------------------\n"
     ]
    }
   ],
   "source": [
    "from requests_html import HTMLSession\n",
    "session = HTMLSession()\n",
    "r = session.get('https://chanhtuoi.com/ma-giam-gia-grab-c53.html?load=true&cate=15&order=hot')\n",
    "article = r.html.find('div.chanhtuoi-code')\n",
    "companies =[]\n",
    "item_list = article[0].find('div.item')\n",
    "for item in item_list:\n",
    "    name = item.find('p', first=True).text\n",
    "    item_desc = item.find('div.item-desc')\n",
    "    des = item_desc[0].find('p',first=True).text\n",
    "    dic = item.find('div.code')\n",
    "    data = dic[0].attrs\n",
    "    print(name)\n",
    "    print(des)\n",
    "    print(data['data-code'])"
   ]
  },
  {
   "cell_type": "code",
   "execution_count": 4,
   "metadata": {},
   "outputs": [
    {
     "name": "stdout",
     "output_type": "stream",
     "text": [
      "Giảm 20%\n",
      "Áp dụng khi thanh toán qua Ví Điện Tử Moca\n",
      "XANH\n",
      "-------------------\n",
      "Giảm 50%\n",
      "Khuyến mãi: 50%\n",
      "ANTOAN\n",
      "-------------------\n"
     ]
    }
   ],
   "source": [
    "from requests_html import HTMLSession\n",
    "session = HTMLSession()\n",
    "r = session.get('https://chanhtuoi.com/ma-giam-gia-grab-c53.html?load=true&cate=16&order=hot')\n",
    "article = r.html.find('div.chanhtuoi-code')\n",
    "companies =[]\n",
    "item_list = article[0].find('div.item')\n",
    "for item in item_list:\n",
    "    name = item.find('p', first=True).text\n",
    "    item_desc = item.find('div.item-desc')\n",
    "    des = item_desc[0].find('p',first=True).text\n",
    "    dic = item.find('div.code')\n",
    "    data = dic[0].attrs\n",
    "    print(name)\n",
    "    print(des)\n",
    "    print(data['data-code'])"
   ]
  },
  {
   "cell_type": "code",
   "execution_count": null,
   "metadata": {},
   "outputs": [],
   "source": []
  },
  {
   "cell_type": "code",
   "execution_count": null,
   "metadata": {},
   "outputs": [],
   "source": []
  },
  {
   "cell_type": "code",
   "execution_count": null,
   "metadata": {},
   "outputs": [],
   "source": []
  },
  {
   "cell_type": "code",
   "execution_count": null,
   "metadata": {},
   "outputs": [],
   "source": []
  },
  {
   "cell_type": "code",
   "execution_count": null,
   "metadata": {},
   "outputs": [],
   "source": []
  },
  {
   "cell_type": "code",
   "execution_count": null,
   "metadata": {},
   "outputs": [],
   "source": []
  },
  {
   "cell_type": "code",
   "execution_count": null,
   "metadata": {},
   "outputs": [],
   "source": []
  },
  {
   "cell_type": "code",
   "execution_count": null,
   "metadata": {},
   "outputs": [],
   "source": []
  },
  {
   "cell_type": "code",
   "execution_count": null,
   "metadata": {},
   "outputs": [],
   "source": []
  },
  {
   "cell_type": "code",
   "execution_count": null,
   "metadata": {},
   "outputs": [],
   "source": [
    "\n"
   ]
  },
  {
   "cell_type": "code",
   "execution_count": null,
   "metadata": {},
   "outputs": [],
   "source": []
  },
  {
   "cell_type": "code",
   "execution_count": null,
   "metadata": {},
   "outputs": [],
   "source": []
  },
  {
   "cell_type": "code",
   "execution_count": null,
   "metadata": {},
   "outputs": [],
   "source": []
  },
  {
   "cell_type": "code",
   "execution_count": null,
   "metadata": {},
   "outputs": [],
   "source": []
  },
  {
   "cell_type": "code",
   "execution_count": null,
   "metadata": {},
   "outputs": [],
   "source": []
  },
  {
   "cell_type": "code",
   "execution_count": null,
   "metadata": {},
   "outputs": [],
   "source": []
  },
  {
   "cell_type": "code",
   "execution_count": null,
   "metadata": {},
   "outputs": [],
   "source": []
  },
  {
   "cell_type": "code",
   "execution_count": null,
   "metadata": {},
   "outputs": [],
   "source": []
  }
 ],
 "metadata": {
  "kernelspec": {
   "display_name": "Python 3",
   "language": "python",
   "name": "python3"
  },
  "language_info": {
   "codemirror_mode": {
    "name": "ipython",
    "version": 3
   },
   "file_extension": ".py",
   "mimetype": "text/x-python",
   "name": "python",
   "nbconvert_exporter": "python",
   "pygments_lexer": "ipython3",
   "version": "3.7.3"
  }
 },
 "nbformat": 4,
 "nbformat_minor": 4
}
